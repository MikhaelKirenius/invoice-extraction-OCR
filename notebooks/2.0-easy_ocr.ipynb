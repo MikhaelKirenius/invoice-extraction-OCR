{
 "cells": [
  {
   "cell_type": "code",
   "execution_count": 7,
   "id": "c6f6952e",
   "metadata": {},
   "outputs": [
    {
     "name": "stderr",
     "output_type": "stream",
     "text": [
      "Neither CUDA nor MPS are available - defaulting to CPU. Note: This module is much faster with a GPU.\n",
      "c:\\Users\\PC\\Documents\\final_project_ocr_dibimbing\\myvenv\\Lib\\site-packages\\torch\\utils\\data\\dataloader.py:666: UserWarning: 'pin_memory' argument is set as true but no accelerator is found, then device pinned memory won't be used.\n",
      "  warnings.warn(warn_msg)\n"
     ]
    }
   ],
   "source": [
    "import easyocr\n",
    "reader = easyocr.Reader(['en'])\n",
    "results = reader.readtext('../data/batch_1/batch1_1/batch1-0001.jpg')"
   ]
  },
  {
   "cell_type": "code",
   "execution_count": 8,
   "id": "9a4d9346",
   "metadata": {},
   "outputs": [],
   "source": [
    "dataset = []"
   ]
  },
  {
   "cell_type": "code",
   "execution_count": 9,
   "id": "be1d8999",
   "metadata": {},
   "outputs": [
    {
     "name": "stdout",
     "output_type": "stream",
     "text": [
      "Invoice\n",
      "no: 51109338\n",
      "Date of issue:\n",
      "04/13/2013\n",
      "Seller:\n",
      "Client:\n",
      "Andrews, Kirby and Valdez\n",
      "Becker Ltd\n",
      "58861 Gonzalez Prairie\n",
      "8012 Stewart Summit Apt: 455\n",
      "Lake Daniellefurt; IN 57228\n",
      "North Douglas, AZ 95355\n",
      "Tax Id: 945-82-2137\n",
      "Tax Id: 942-80-0517\n",
      "IBAN: GBZSMCRLO6841367619257\n",
      "ITEMS\n",
      "No.\n",
      "Description\n",
      "Qty\n",
      "UM\n",
      "Net price\n",
      "Net worth\n",
      "VAT [%]\n",
      "Gross\n",
      "worth\n",
      "CLEARANCE! Fast Dell Desktop\n",
      "3,00\n",
      "each\n",
      "209,00\n",
      "627,00\n",
      "10%\n",
      "689,70\n",
      "Computer PC DUAL CORE\n",
      "WINDOWS 10 4/8/16GB RAM\n",
      "2\n",
      "HP T520 Thin Client Computer\n",
      "5,00\n",
      "each\n",
      "37,75\n",
      "188,75\n",
      "10%\n",
      "207,63\n",
      "AMD GX-21ZJC 1.2GHz 4GB RAM\n",
      "TESTED !!READ BELOWW!\n",
      "3\n",
      "gaming pc desktop computer\n",
      "1,00\n",
      "each\n",
      "400,00\n",
      "400,00\n",
      "10%\n",
      "440,00\n",
      "12-Core Gaming Computer\n",
      "3,00\n",
      "each\n",
      "464,89\n",
      "1 394,67\n",
      "10%\n",
      "1 534,14\n",
      "Desktop PC Tower Affordable\n",
      "GAMING PC 8GB AMD Vega RGB\n",
      "5\n",
      "Custom Build Dell Optiplex 9020\n",
      "5,00\n",
      "each\n",
      "221,99\n",
      "1 109,95\n",
      "10%\n",
      "1 220,95\n",
      "MT i5-4570 3.2OGHz Desktop\n",
      "Computer PC\n",
      "6\n",
      "Dell Optiplex 990 MT Computer\n",
      "4,00\n",
      "each\n",
      "269,95\n",
      "1 079,80\n",
      "10%\n",
      "1 187,78\n",
      "PC Quad Core i7 3.4GHz 16GB\n",
      "2TB HD Windows 10 Pro\n",
      "Dell Core 2 Duo Desktop\n",
      "5,00\n",
      "each\n",
      "168,00\n",
      "840,00\n",
      "10%\n",
      "924,00\n",
      "Computer\n",
      "Windows XP Pro\n",
      "4GB\n",
      "SUMMARY\n",
      "VAT [%]\n",
      "Net worth\n",
      "VAT\n",
      "Gross worth\n",
      "10%\n",
      "5 640,17\n",
      "564,02\n",
      "6 204,19\n",
      "Total\n",
      "$ 5 640,17\n",
      "564,02\n",
      "$ 6 204,19\n"
     ]
    }
   ],
   "source": [
    "for (bbox, text, conf) in results:\n",
    "    if conf > 0.5:\n",
    "        dataset.append(text)\n",
    "        print(text)"
   ]
  },
  {
   "cell_type": "code",
   "execution_count": 10,
   "id": "44ce55ea",
   "metadata": {},
   "outputs": [
    {
     "data": {
      "text/plain": [
       "['Invoice',\n",
       " 'no: 51109338',\n",
       " 'Date of issue:',\n",
       " '04/13/2013',\n",
       " 'Seller:',\n",
       " 'Client:',\n",
       " 'Andrews, Kirby and Valdez',\n",
       " 'Becker Ltd',\n",
       " '58861 Gonzalez Prairie',\n",
       " '8012 Stewart Summit Apt: 455',\n",
       " 'Lake Daniellefurt; IN 57228',\n",
       " 'North Douglas, AZ 95355',\n",
       " 'Tax Id: 945-82-2137',\n",
       " 'Tax Id: 942-80-0517',\n",
       " 'IBAN: GBZSMCRLO6841367619257',\n",
       " 'ITEMS',\n",
       " 'No.',\n",
       " 'Description',\n",
       " 'Qty',\n",
       " 'UM',\n",
       " 'Net price',\n",
       " 'Net worth',\n",
       " 'VAT [%]',\n",
       " 'Gross',\n",
       " 'worth',\n",
       " 'CLEARANCE! Fast Dell Desktop',\n",
       " '3,00',\n",
       " 'each',\n",
       " '209,00',\n",
       " '627,00',\n",
       " '10%',\n",
       " '689,70',\n",
       " 'Computer PC DUAL CORE',\n",
       " 'WINDOWS 10 4/8/16GB RAM',\n",
       " '2',\n",
       " 'HP T520 Thin Client Computer',\n",
       " '5,00',\n",
       " 'each',\n",
       " '37,75',\n",
       " '188,75',\n",
       " '10%',\n",
       " '207,63',\n",
       " 'AMD GX-21ZJC 1.2GHz 4GB RAM',\n",
       " 'TESTED !!READ BELOWW!',\n",
       " '3',\n",
       " 'gaming pc desktop computer',\n",
       " '1,00',\n",
       " 'each',\n",
       " '400,00',\n",
       " '400,00',\n",
       " '10%',\n",
       " '440,00',\n",
       " '12-Core Gaming Computer',\n",
       " '3,00',\n",
       " 'each',\n",
       " '464,89',\n",
       " '1 394,67',\n",
       " '10%',\n",
       " '1 534,14',\n",
       " 'Desktop PC Tower Affordable',\n",
       " 'GAMING PC 8GB AMD Vega RGB',\n",
       " '5',\n",
       " 'Custom Build Dell Optiplex 9020',\n",
       " '5,00',\n",
       " 'each',\n",
       " '221,99',\n",
       " '1 109,95',\n",
       " '10%',\n",
       " '1 220,95',\n",
       " 'MT i5-4570 3.2OGHz Desktop',\n",
       " 'Computer PC',\n",
       " '6',\n",
       " 'Dell Optiplex 990 MT Computer',\n",
       " '4,00',\n",
       " 'each',\n",
       " '269,95',\n",
       " '1 079,80',\n",
       " '10%',\n",
       " '1 187,78',\n",
       " 'PC Quad Core i7 3.4GHz 16GB',\n",
       " '2TB HD Windows 10 Pro',\n",
       " 'Dell Core 2 Duo Desktop',\n",
       " '5,00',\n",
       " 'each',\n",
       " '168,00',\n",
       " '840,00',\n",
       " '10%',\n",
       " '924,00',\n",
       " 'Computer',\n",
       " 'Windows XP Pro',\n",
       " '4GB',\n",
       " 'SUMMARY',\n",
       " 'VAT [%]',\n",
       " 'Net worth',\n",
       " 'VAT',\n",
       " 'Gross worth',\n",
       " '10%',\n",
       " '5 640,17',\n",
       " '564,02',\n",
       " '6 204,19',\n",
       " 'Total',\n",
       " '$ 5 640,17',\n",
       " '564,02',\n",
       " '$ 6 204,19']"
      ]
     },
     "execution_count": 10,
     "metadata": {},
     "output_type": "execute_result"
    }
   ],
   "source": [
    "dataset"
   ]
  },
  {
   "cell_type": "code",
   "execution_count": 11,
   "id": "9803cb09",
   "metadata": {},
   "outputs": [
    {
     "data": {
      "text/plain": [
       "'Invoice no: 51109338 Date of issue: 04/13/2013 Seller: Client: Andrews, Kirby and Valdez Becker Ltd 58861 Gonzalez Prairie 8012 Stewart Summit Apt: 455 Lake Daniellefurt; IN 57228 North Douglas, AZ 95355 Tax Id: 945-82-2137 Tax Id: 942-80-0517 IBAN: GBZSMCRLO6841367619257 ITEMS No. Description Qty UM Net price Net worth VAT [%] Gross worth CLEARANCE! Fast Dell Desktop 3,00 each 209,00 627,00 10% 689,70 Computer PC DUAL CORE WINDOWS 10 4/8/16GB RAM 2 HP T520 Thin Client Computer 5,00 each 37,75 188,75 10% 207,63 AMD GX-21ZJC 1.2GHz 4GB RAM TESTED !!READ BELOWW! 3 gaming pc desktop computer 1,00 each 400,00 400,00 10% 440,00 12-Core Gaming Computer 3,00 each 464,89 1 394,67 10% 1 534,14 Desktop PC Tower Affordable GAMING PC 8GB AMD Vega RGB 5 Custom Build Dell Optiplex 9020 5,00 each 221,99 1 109,95 10% 1 220,95 MT i5-4570 3.2OGHz Desktop Computer PC 6 Dell Optiplex 990 MT Computer 4,00 each 269,95 1 079,80 10% 1 187,78 PC Quad Core i7 3.4GHz 16GB 2TB HD Windows 10 Pro Dell Core 2 Duo Desktop 5,00 each 168,00 840,00 10% 924,00 Computer Windows XP Pro 4GB SUMMARY VAT [%] Net worth VAT Gross worth 10% 5 640,17 564,02 6 204,19 Total $ 5 640,17 564,02 $ 6 204,19'"
      ]
     },
     "execution_count": 11,
     "metadata": {},
     "output_type": "execute_result"
    }
   ],
   "source": [
    "texts = \" \".join(dataset)\n",
    "texts"
   ]
  },
  {
   "cell_type": "code",
   "execution_count": 12,
   "id": "e7e809f9",
   "metadata": {},
   "outputs": [
    {
     "data": {
      "text/plain": [
       "'\\n3M 4930 VHB Acrylic Foam Tape 8126 X 36yd $350 3M 30073 SI Edge Seal. Comp. S6 3M SJ3518FR Scotchmate LP Beig S209 3M 2308 Masking Tape Subtotal S7032 TAX 0% Total S7032 Paid Paid Balance Due\\n\\n'"
      ]
     },
     "execution_count": 12,
     "metadata": {},
     "output_type": "execute_result"
    }
   ],
   "source": [
    "\"\"\"\n",
    "3M 4930 VHB Acrylic Foam Tape 8126 X 36yd $350 3M 30073 SI Edge Seal. Comp. S6 3M SJ3518FR Scotchmate LP Beig S209 3M 2308 Masking Tape Subtotal S7032 TAX 0% Total S7032 Paid Paid Balance Due\n",
    "\n",
    "\"\"\"\n",
    "\n"
   ]
  },
  {
   "cell_type": "code",
   "execution_count": null,
   "id": "910cdf5b",
   "metadata": {},
   "outputs": [],
   "source": []
  }
 ],
 "metadata": {
  "kernelspec": {
   "display_name": "myvenv",
   "language": "python",
   "name": "python3"
  },
  "language_info": {
   "codemirror_mode": {
    "name": "ipython",
    "version": 3
   },
   "file_extension": ".py",
   "mimetype": "text/x-python",
   "name": "python",
   "nbconvert_exporter": "python",
   "pygments_lexer": "ipython3",
   "version": "3.11.9"
  }
 },
 "nbformat": 4,
 "nbformat_minor": 5
}
