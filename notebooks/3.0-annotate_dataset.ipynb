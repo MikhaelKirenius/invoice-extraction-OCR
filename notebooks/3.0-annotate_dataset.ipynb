{
 "cells": [
  {
   "cell_type": "markdown",
   "id": "cd11ceeb",
   "metadata": {},
   "source": [
    "## Import Libraries"
   ]
  },
  {
   "cell_type": "code",
   "execution_count": 1,
   "id": "bf99d9f4",
   "metadata": {},
   "outputs": [],
   "source": [
    "import pandas as pd\n",
    "import json\n",
    "import re"
   ]
  },
  {
   "cell_type": "markdown",
   "id": "c9b05f96",
   "metadata": {},
   "source": [
    "## Load Dataset"
   ]
  },
  {
   "cell_type": "code",
   "execution_count": 5,
   "id": "dcee6958",
   "metadata": {},
   "outputs": [],
   "source": [
    "df = pd.read_csv('../data/batch_1/batch1_1.csv')"
   ]
  },
  {
   "cell_type": "code",
   "execution_count": 7,
   "id": "5861f36c",
   "metadata": {},
   "outputs": [],
   "source": [
    "def normalize_number_variants(s: str):\n",
    "    s = s.strip()\n",
    "    if not s:\n",
    "        return []\n",
    "    variants = {s}\n",
    "    if \",\" in s:\n",
    "        variants.add(s.replace(\",\", \".\"))\n",
    "    if \".\" in s:\n",
    "        variants.add(s.replace(\".\", \",\"))\n",
    "    variants.add(re.sub(r\"\\s+\", \"\", s))\n",
    "    return list(variants)\n"
   ]
  },
  {
   "cell_type": "code",
   "execution_count": 8,
   "id": "66fd0cdd",
   "metadata": {},
   "outputs": [],
   "source": [
    "def annotate_invoice(ocr_text, json_data):\n",
    "    tokens = ocr_text.split()\n",
    "    labels = [\"O\"] * len(tokens)\n",
    "\n",
    "    total_from_json = None\n",
    "    try:\n",
    "        total_from_json = json_data.get(\"subtotal\", {}).get(\"total\")\n",
    "    except Exception:\n",
    "        total_from_json = None\n",
    "\n",
    "    entities = {\n",
    "        \"INVOICE_NUMBER\": json_data.get(\"invoice\", {}).get(\"invoice_number\"),\n",
    "        \"INVOICE_DATE\": json_data.get(\"invoice\", {}).get(\"invoice_date\"),\n",
    "        \"CLIENT_NAME\": json_data.get(\"invoice\", {}).get(\"client_name\"),\n",
    "        \"SELLER_NAME\": json_data.get(\"invoice\", {}).get(\"seller_name\"),\n",
    "        \"TOTAL\": total_from_json,\n",
    "    }\n",
    "\n",
    "    token_strs = tokens[:]  \n",
    "\n",
    "    def try_match_sequence(label, value):\n",
    "        if not value:\n",
    "            return False\n",
    "        value_candidates = [value]\n",
    "        if label == \"TOTAL\":\n",
    "            value_candidates = normalize_number_variants(value)\n",
    "        matched = False\n",
    "        for val in value_candidates:\n",
    "            value_tokens = val.split()\n",
    "            if not value_tokens:\n",
    "                continue\n",
    "            L = len(value_tokens)\n",
    "            for i in range(0, len(token_strs) - L + 1):\n",
    "                if token_strs[i:i+L] == value_tokens:\n",
    "                    labels[i] = f\"B-{label}\"\n",
    "                    for j in range(1, L):\n",
    "                        labels[i+j] = f\"I-{label}\"\n",
    "                    matched = True\n",
    "                    break\n",
    "            if matched:\n",
    "                break\n",
    "        return matched\n",
    "\n",
    "    for label, value in entities.items():\n",
    "        try_match_sequence(label, value)\n",
    "\n",
    "    return {\"tokens\": tokens, \"ner_tags\": labels}"
   ]
  },
  {
   "cell_type": "code",
   "execution_count": 10,
   "id": "ada60f02",
   "metadata": {},
   "outputs": [],
   "source": [
    "df = pd.read_csv(\"../data/batch_1/batch1_1.csv\", dtype=str, keep_default_na=False)\n",
    "df_testing = df.loc[0:5]\n",
    "annotated_rows = []\n",
    "for idx, row in df_testing.iterrows():\n",
    "    raw_json = row[\"Json Data\"]\n",
    "\n",
    "    json_obj = json.loads(raw_json)\n",
    "\n",
    "    ocr_text = row[\"OCRed Text\"]\n",
    "\n",
    "    ann = annotate_invoice(ocr_text, json_obj)\n",
    "\n",
    "    annotated_rows.append({\n",
    "        \"file_name\": row[\"File Name\"],\n",
    "        \"tokens\": ann[\"tokens\"],\n",
    "        \"ner_tags\": ann[\"ner_tags\"],\n",
    "    })\n"
   ]
  },
  {
   "cell_type": "code",
   "execution_count": 13,
   "id": "6226a9d4",
   "metadata": {},
   "outputs": [
    {
     "name": "stdout",
     "output_type": "stream",
     "text": [
      "{'file_name': 'batch1-0494.jpg', 'tokens': ['Invoice', 'no:', '84652373', 'Date', 'of', 'issue:', '02/23/2021', 'Seller:', 'Client:', 'Nguyen-Roach', 'Clark-Foster', '247', 'David', 'Highway', '77477', 'Cliff', 'Apt.', '853', 'Lake', 'John,', 'WV', '84178', 'Washingtonbury,', 'MS', '78346', 'Tax', 'Id:', '991-72-5826', 'Tax', 'Id:', '937-70-8530', 'IBAN:', 'GB91/YXO05542456978150', 'ITEMS', 'No.', 'Description', 'Qty', 'UM', 'Net', 'price', 'Net', 'worth', 'VAT', '[%]', 'Gross', 'worth', 'Stemware', 'Rack', 'Display', 'Kitchen', '1,00', 'each', '42,32', '42,32', '10%', '46,55', 'Wine', 'Glass', 'Holder', 'Bottle', 'Carbon', 'Steel', 'Free', 'Punch', '2', 'VTG', '(4)', '7', 'Ounce', 'Since', '1852', '1,00', 'each', '14,00', '14,00', '10%', '15,40', 'Milk', 'Bottle', 'Wine', 'Carafe', 'Juice', 'Glass', 'with', 'Cork', 'Lids', '3', 'Vintage', 'Crystal', 'Red', 'Wine', '1,00', 'each', '35,45', '35,45', '10%', '39,00', 'Glasses', 'NOS', 'West', 'Germany', '1983', '6', '10', 'ounce', 'elegant', 'stems', '3', 'Ikea', 'Stainless', 'Steel', '4-bottle', '4,00', 'each', '25,00', '100,00', '10%', '110,00', 'Wine', 'Rack', '300.557.60', 'great', 'condition', 'gift', 'it!', '5', 'Lolita', '\"Wine', 'Bouquet\"', 'Hand', '1,00', 'each', '20,00', '20,00', '10%', '22,00', 'Painted', 'and', 'Decorated', 'Wine', 'Glass', 'NIB', 'SUMMARY', 'VAT', '[%]', 'Net', 'worth', 'VAT', 'Gross', 'worth', '10%', '211,77', '21,18', '232,95', 'Total', '$', '211,77', '$', '21,18', '$', '232,95', 'Troy'], 'ner_tags': ['O', 'O', 'B-INVOICE_NUMBER', 'O', 'O', 'O', 'B-INVOICE_DATE', 'O', 'O', 'B-SELLER_NAME', 'B-CLIENT_NAME', 'O', 'O', 'O', 'O', 'O', 'O', 'O', 'O', 'O', 'O', 'O', 'O', 'O', 'O', 'O', 'O', 'O', 'O', 'O', 'O', 'O', 'O', 'O', 'O', 'O', 'O', 'O', 'O', 'O', 'O', 'O', 'O', 'O', 'O', 'O', 'O', 'O', 'O', 'O', 'O', 'O', 'O', 'O', 'O', 'O', 'O', 'O', 'O', 'O', 'O', 'O', 'O', 'O', 'O', 'O', 'O', 'O', 'O', 'O', 'O', 'O', 'O', 'O', 'O', 'O', 'O', 'O', 'O', 'O', 'O', 'O', 'O', 'O', 'O', 'O', 'O', 'O', 'O', 'O', 'O', 'O', 'O', 'O', 'O', 'O', 'O', 'O', 'O', 'O', 'O', 'O', 'O', 'O', 'O', 'O', 'O', 'O', 'O', 'O', 'O', 'O', 'O', 'O', 'O', 'O', 'O', 'O', 'O', 'O', 'O', 'O', 'O', 'O', 'O', 'O', 'O', 'O', 'O', 'O', 'O', 'O', 'O', 'O', 'O', 'O', 'O', 'O', 'O', 'O', 'O', 'O', 'O', 'O', 'O', 'O', 'O', 'O', 'O', 'O', 'O', 'O', 'O', 'B-TOTAL', 'O', 'O', 'O', 'O', 'O', 'O', 'O', 'O']}\n"
     ]
    }
   ],
   "source": [
    "print(annotated_rows[0])"
   ]
  }
 ],
 "metadata": {
  "kernelspec": {
   "display_name": "myvenv",
   "language": "python",
   "name": "python3"
  },
  "language_info": {
   "codemirror_mode": {
    "name": "ipython",
    "version": 3
   },
   "file_extension": ".py",
   "mimetype": "text/x-python",
   "name": "python",
   "nbconvert_exporter": "python",
   "pygments_lexer": "ipython3",
   "version": "3.11.9"
  }
 },
 "nbformat": 4,
 "nbformat_minor": 5
}
