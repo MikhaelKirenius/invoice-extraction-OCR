{
 "cells": [
  {
   "cell_type": "markdown",
   "id": "13004eb2",
   "metadata": {},
   "source": [
    "## Import Library"
   ]
  },
  {
   "cell_type": "code",
   "execution_count": 1,
   "id": "c7b22ea0",
   "metadata": {},
   "outputs": [],
   "source": [
    "import pandas as pd\n",
    "import numpy as np\n",
    "import json, re\n",
    "import matplotlib.pyplot as plt\n",
    "import seaborn as sns"
   ]
  },
  {
   "cell_type": "markdown",
   "id": "7e27c7fe",
   "metadata": {},
   "source": [
    "## Load Data"
   ]
  },
  {
   "cell_type": "code",
   "execution_count": 2,
   "id": "1f30b5dd",
   "metadata": {},
   "outputs": [],
   "source": [
    "files = ['../data/batch_1/batch1_1.csv', '../data/batch_1/batch1_2.csv', '../data/batch_1/batch1_3.csv']"
   ]
  },
  {
   "cell_type": "code",
   "execution_count": 3,
   "id": "7d128101",
   "metadata": {},
   "outputs": [],
   "source": [
    "dfs = [pd.read_csv(f, engine='python') for f in files]\n",
    "df_all = pd.concat(dfs, ignore_index=True)"
   ]
  },
  {
   "cell_type": "code",
   "execution_count": 4,
   "id": "088df784",
   "metadata": {},
   "outputs": [
    {
     "data": {
      "application/vnd.microsoft.datawrangler.viewer.v0+json": {
       "columns": [
        {
         "name": "index",
         "rawType": "int64",
         "type": "integer"
        },
        {
         "name": "File Name",
         "rawType": "object",
         "type": "string"
        },
        {
         "name": "Json Data",
         "rawType": "object",
         "type": "string"
        },
        {
         "name": "OCRed Text",
         "rawType": "object",
         "type": "string"
        }
       ],
       "ref": "f99e5581-d284-4406-8c53-cdbfaf9484d2",
       "rows": [
        [
         "0",
         "batch1-0494.jpg",
         "\n{\n  \"invoice\": {\n    \"client_name\": \"Clark-Foster\",\n    \"client_address\": \"77477 Troy Cliff Apt. 853\\nWashingtonbury, MS 78346\",\n    \"seller_name\": \"Nguyen-Roach\",\n    \"seller_address\": \"247 David Highway\\nLake John, WV 84178\",\n    \"invoice_number\": \"84652373\",\n    \"invoice_date\": \"02/23/2021\",\n    \"due_date\": \"\"\n  },\n  \"items\": [\n    {\n      \"description\": \"Stemware Rack Display Kitchen\\nWine Glass Holder Bottle\\nCarbon Steel Free Punch\",\n      \"quantity\": \"1.00\",\n      \"total_price\": \"46.55\"\n    },\n    {\n      \"description\": \"VTG (4) 7 Ounce Since 1852\\nMilk Bottle Wine Carafe Juice\\nGlass with Cork Lids\",\n      \"quantity\": \"1.00\",\n      \"total_price\": \"15.40\"\n    },\n    {\n      \"description\": \"Vintage Crystal Red Wine\\nGlasses NOS West Germany\\n1983 6 10 ounce elegant stems\",\n      \"quantity\": \"1.00\",\n      \"total_price\": \"39.00\"\n    },\n    {\n      \"description\": \"3 Ikea Stainless Steel 4-bottle\\nWine Rack 300.557.60 - great\\ncondition gift it!\",\n      \"quantity\": \"4.00\",\n      \"total_price\": \"110.00\"\n    },\n    {\n      \"description\": \"Lolita \\\"Wine Bouquet\\\" Hand\\nPainted and Decorated Wine\\nGlass NIB\",\n      \"quantity\": \"1.00\",\n      \"total_price\": \"22.00\"\n    }\n  ],\n  \"subtotal\": {\n    \"tax\": \"21.18\",\n    \"discount\": \"\",\n    \"total\": \"232.95\"\n  },\n  \"payment_instructions\": {\n    \"due_date\": \"\",\n    \"bank_name\": \"\",\n    \"account_number\": \"\",\n    \"payment_method\": \"\"\n  }\n}\n",
         "Invoice no: 84652373 Date of issue: 02/23/2021 Seller: Client: Nguyen-Roach Clark-Foster 247 David Highway 77477 Cliff Apt. 853 Lake John, WV 84178 Washingtonbury, MS 78346 Tax Id: 991-72-5826 Tax Id: 937-70-8530 IBAN: GB91/YXO05542456978150 ITEMS No. Description Qty UM Net price Net worth VAT [%] Gross worth Stemware Rack Display Kitchen 1,00 each 42,32 42,32 10% 46,55 Wine Glass Holder Bottle Carbon Steel Free Punch 2 VTG (4) 7 Ounce Since 1852 1,00 each 14,00 14,00 10% 15,40 Milk Bottle Wine Carafe Juice Glass with Cork Lids 3 Vintage Crystal Red Wine 1,00 each 35,45 35,45 10% 39,00 Glasses NOS West Germany 1983 6 10 ounce elegant stems 3 Ikea Stainless Steel 4-bottle 4,00 each 25,00 100,00 10% 110,00 Wine Rack 300.557.60 great condition gift it! 5 Lolita \"Wine Bouquet\" Hand 1,00 each 20,00 20,00 10% 22,00 Painted and Decorated Wine Glass NIB SUMMARY VAT [%] Net worth VAT Gross worth 10% 211,77 21,18 232,95 Total $ 211,77 $ 21,18 $ 232,95 Troy"
        ],
        [
         "1",
         "batch1-0489.jpg",
         "\n{\n  \"invoice\": {\n    \"client_name\": \"Williams, Schneider and Gomez\",\n    \"client_address\": \"588 Morales Rapids\\nEast Katherineton, MT 53545\",\n    \"seller_name\": \"Scott-Howard\",\n    \"seller_address\": \"45558 Davis Mountains\\nEast Zacharyville, IA 99376\",\n    \"invoice_number\": \"37451664\",\n    \"invoice_date\": \"06/11/2020\",\n    \"due_date\": \"\"\n  },\n  \"items\": [\n    {\n      \"description\": \"PUMA Boys Youth Universal FG Jr Soccer Cleats 2.5 White High Red NEW Futbol\",\n      \"quantity\": \"2.00\",\n      \"total_price\": \"43.98\"\n    },\n    {\n      \"description\": \"Lotto Youth Boys Fuerzapura L500 Jr Soccer Cleats Size 2.5 White Blue M6147 2.5Y\",\n      \"quantity\": \"5.00\",\n      \"total_price\": \"109.94\"\n    }\n  ],\n  \"subtotal\": {\n    \"tax\": \"13.99\",\n    \"discount\": \"\",\n    \"total\": \"153.92\"\n  },\n  \"payment_instructions\": {\n    \"due_date\": \"\",\n    \"bank_name\": \"\",\n    \"account_number\": \"\",\n    \"payment_method\": \"\"\n  }\n}\n",
         "Invoice no: 37451664 Date of issue: 06/11/2020 Seller: Client: Scott-Howard Williams, Schneider and Gomez 45558 Davis Mountains 588 Morales Rapids East Zacharyville, IA 99376 East Katherineton, MT 53545 Tax Id: 997-75-1112 Tax Id: 916-94-8739 IBAN: GB3IKIAV64209378666800 ITEMS No. Description Qty UM Net price Net worth VAT [%] Gross worth PUMA Boys Youth Universal FG 2,00 each 19,99 39,98 10% 43,98 Jr Soccer Cleats 2.5 White High Red NEW Futbol 2 Lotto Youth Boys Fuerzapura 5,00 each 19,99 99,95 10% 109,94 LSOO Jr Soccer Cleats Size 2.5 White Blue M6147 2.5Y SUMMARY VAT [%] Net worth VAT Gross worth 10% 139,93 13,99 153,92 Total $ 139,93 $ 13,99 $ 153,92"
        ],
        [
         "2",
         "batch1-0499.jpg",
         "\n{\n  \"invoice\": {\n    \"client_name\": \"Hester Inc\",\n    \"client_address\": \"4000 Tonya Rapid Suite 963\\nSouth Marissaport, MN 39537\",\n    \"seller_name\": \"Bailey, Murray and Lewis\",\n    \"seller_address\": \"33771 Powell Pike Suite 054\\nEast Lisastad, RI 21938\",\n    \"invoice_number\": \"40108666\",\n    \"invoice_date\": \"02/07/2020\",\n    \"due_date\": \"\"\n  },\n  \"items\": [\n    {\n      \"description\": \"Microsoft Xbox One 1 - 500 GB\\nConsole - Black w/ Controller &\\nPower Supply GOOD\",\n      \"quantity\": \"1.00\",\n      \"total_price\": \"192.50\"\n    },\n    {\n      \"description\": \"Nintendo DSOriginal NTR-001\\nConsole - Camouflage - Tested\\nWorks\",\n      \"quantity\": \"3.00\",\n      \"total_price\": \"3.27\"\n    },\n    {\n      \"description\": \"Nintendo 2DS Console Blue\\nJapan model Combine Shipping\\navailable 2\",\n      \"quantity\": \"5.00\",\n      \"total_price\": \"302.45\"\n    }\n  ],\n  \"subtotal\": {\n    \"tax\": \"45.29\",\n    \"discount\": \"\",\n    \"total\": \"498.21\"\n  },\n  \"payment_instructions\": {\n    \"due_date\": \"\",\n    \"bank_name\": \"\",\n    \"account_number\": \"\",\n    \"payment_method\": \"\"\n  }\n}\n",
         "Invoice no: 40108666 Date of issue: 02/07/2020 Seller: Client: Bailey, Murray and Lewis Hester Inc 33771 Powell Pike Suite 054 4000 Tonya Rapid Suite 963 East Lisastad, RI 21938 South Marissaport, MN 39537 Tax Id: 993-75-3149 Tax Id: 998-98-6887 IBAN: GBBOMTNI52501633185191 ITEMS No. Description Qty UM Net price Net worth VAT [%] Gross worth 1. Microsoft Xbox One 1 - 500 GB 1,00 each 175,00 175,00 10% 192,50 Console Black wl Controller & Power Supply GOOD 2 Nintendo DSOriginal NTR-001 3,00 each 0,99 2,97 10% 3,27 Console Camouflage Tested Works 3 Nintendo 2DS Console Blue 5,00 each 54,99 274,95 10% 302,45 Japan model Combine Shipping available 2 SUMMARY VAT [%] Net worth VAT Gross worth 10% 452,92 45,29 498,21 Total $ 452,92 $ 45,29 $ 498,21"
        ],
        [
         "3",
         "batch1-0497.jpg",
         "\n{\n  \"invoice\": {\n    \"client_name\": \"Olson, Cisneros and Moore\",\n    \"client_address\": \"80943 Beck Divide\\nWadeport, IA 90419\",\n    \"seller_name\": \"Merritt, Williams and Young\",\n    \"seller_address\": \"6801 Frank Run\\nWest Mary, IN 06055\",\n    \"invoice_number\": \"73285932\",\n    \"invoice_date\": \"07/25/2017\",\n    \"due_date\": \"\"\n  },\n  \"items\": [\n    {\n      \"description\": \"Bcbgeneration Black Sleeveless Lace Back Cut Out Dress Sz 2\",\n      \"quantity\": \"2.00\",\n      \"total_price\": \"6.58\"\n    },\n    {\n      \"description\": \"2pcs baby boys clothes cotton hooded top+pants baby boys Outfits gentleman\",\n      \"quantity\": \"5.00\",\n      \"total_price\": \"60.45\"\n    },\n    {\n      \"description\": \"NWT $1200 J.Crew Silk Chiffon Ivory Wedding Dress with Beading\",\n      \"quantity\": \"1.00\",\n      \"total_price\": \"324.50\"\n    },\n    {\n      \"description\": \"Shein Blue And White Striped Wrap Dress\",\n      \"quantity\": \"5.00\",\n      \"total_price\": \"44.00\"\n    },\n    {\n      \"description\": \"Guess Dress Size 6\",\n      \"quantity\": \"2.00\",\n      \"total_price\": \"44.00\"\n    },\n    {\n      \"description\": \"CLIFFORD & WILLS BLACK NET/MESH OVER TAUPE LONG DRESS SIZE 4\",\n      \"quantity\": \"5.00\",\n      \"total_price\": \"32.95\"\n    },\n    {\n      \"description\": \"Matilda Jane Women's Light Rising High Low Green Floral Dress Size L Pockets\",\n      \"quantity\": \"3.00\",\n      \"total_price\": \"165.00\"\n    }\n  ],\n  \"subtotal\": {\n    \"tax\": \"61.59\",\n    \"discount\": \"\",\n    \"total\": \"677.47\"\n  },\n  \"payment_instructions\": {\n    \"due_date\": \"\",\n    \"bank_name\": \"\",\n    \"account_number\": \"\",\n    \"payment_method\": \"\"\n  }\n}\n",
         "Invoice no: 73285932 Date of issue: 07/25/2017 Seller: Client: Merritt, Williams and Young Olson, Cisneros and Moore 6801 Frank Run 80943 Beck Divide West IN 06055 Wadeport, IA 90419 Tax Id: 963-86-7453 Tax Id: 901-73-0142 IBAN: GBI6HUWQ31434229260013 ITEMS No. Description Qty UM Net price Net worth VAT [%] Gross worth Bcbgeneration Black Sleeveless 2,00 each 2,99 5,98 10% 6,58 Lace Back Cut Out Dress Sz 2 2 Zpcs baby clothes cotton 5,00 each 10,99 54,95 10% 60,45 hoodied top+pants baby boys Outfits gentleman 3 NWT $1200 J Crew Silk Chiffon 1,00 each 295,00 295,00 10% 324,50 Ivory Wedding Dress with Beading Shein Blue And White Striped 5,00 each 8,00 40,00 10% 44,00 Wrap Dress 5 Guess Dress Size 6 2,00 each 20,00 40,00 10% 00 CLIFFORD & WILLS BLACK 5,00 each 5,99 29,95 10% 32,95 NETIMESH OVER TAUPE LONG DRESS SIZE Matilda Jane Women's Light 3,00 each 50,00 150,00 10% 165,00 Rising High Low Green Floral Dress Size L Pockets SUMMARY VAT [%] Net worth VAT Gross worth 10% 615,88 61,59 677,47 Total $ 615,88 $ 61,59 $ 677,47 Mary , boys 44,C"
        ],
        [
         "4",
         "batch1-0081.jpg",
         "\n{\n  \"invoice\": {\n    \"client_name\": \"Wilson-Wilson\",\n    \"client_address\": \"85455 Carter Estate\\nMooremouth, CT 29699\",\n    \"seller_name\": \"Fernandez Ltd\",\n    \"seller_address\": \"06398 Jensen Loaf\\nAndrewton, AR 65741\",\n    \"invoice_number\": \"15288019\",\n    \"invoice_date\": \"09/07/2014\",\n    \"due_date\": \"\"\n  },\n  \"items\": [\n    {\n      \"description\": \"Easy No Tie Rubber Shoe Laces\\nColored Trainers Snickers Kids\\n+ Adults Shoelaces\",\n      \"quantity\": \"1.00\",\n      \"total_price\": \"1.71\"\n    }\n  ],\n  \"subtotal\": {\n    \"tax\": \"0.16\",\n    \"discount\": \"\",\n    \"total\": \"1.71\"\n  },\n  \"payment_instructions\": {\n    \"due_date\": \"\",\n    \"bank_name\": \"\",\n    \"account_number\": \"\",\n    \"payment_method\": \"\"\n  }\n}\n",
         "Invoice no: 15288019 Date of issue: 09/07/2014 Seller: Client: Fernandez Ltd Wilson-Wilson 06398 Jensen Loaf 85455 Carter Estate Andrewton, AR 65741 Mooremouth, CT 29699 Tax Id: 983-71-0649 Tax Id: 922-87-0964 IBAN: GB88DSHK83384951793426 ITEMS No. Description Qty UM Net price Net worth VAT [%] Gross worth Easy No Tie Rubber Shoe Laces 1,00 each 1,55 1,55 10% 1,71 Colored Trainers Snickers Kids + Adults Shoelaces SUMMARY VAT [%] Net worth VAT Gross worth 10% 1,55 0,16 1,71 Total $ 1,55 $ 0,16 $ 1,71"
        ]
       ],
       "shape": {
        "columns": 3,
        "rows": 5
       }
      },
      "text/html": [
       "<div>\n",
       "<style scoped>\n",
       "    .dataframe tbody tr th:only-of-type {\n",
       "        vertical-align: middle;\n",
       "    }\n",
       "\n",
       "    .dataframe tbody tr th {\n",
       "        vertical-align: top;\n",
       "    }\n",
       "\n",
       "    .dataframe thead th {\n",
       "        text-align: right;\n",
       "    }\n",
       "</style>\n",
       "<table border=\"1\" class=\"dataframe\">\n",
       "  <thead>\n",
       "    <tr style=\"text-align: right;\">\n",
       "      <th></th>\n",
       "      <th>File Name</th>\n",
       "      <th>Json Data</th>\n",
       "      <th>OCRed Text</th>\n",
       "    </tr>\n",
       "  </thead>\n",
       "  <tbody>\n",
       "    <tr>\n",
       "      <th>0</th>\n",
       "      <td>batch1-0494.jpg</td>\n",
       "      <td>\\n{\\n  \"invoice\": {\\n    \"client_name\": \"Clark...</td>\n",
       "      <td>Invoice no: 84652373 Date of issue: 02/23/2021...</td>\n",
       "    </tr>\n",
       "    <tr>\n",
       "      <th>1</th>\n",
       "      <td>batch1-0489.jpg</td>\n",
       "      <td>\\n{\\n  \"invoice\": {\\n    \"client_name\": \"Willi...</td>\n",
       "      <td>Invoice no: 37451664 Date of issue: 06/11/2020...</td>\n",
       "    </tr>\n",
       "    <tr>\n",
       "      <th>2</th>\n",
       "      <td>batch1-0499.jpg</td>\n",
       "      <td>\\n{\\n  \"invoice\": {\\n    \"client_name\": \"Heste...</td>\n",
       "      <td>Invoice no: 40108666 Date of issue: 02/07/2020...</td>\n",
       "    </tr>\n",
       "    <tr>\n",
       "      <th>3</th>\n",
       "      <td>batch1-0497.jpg</td>\n",
       "      <td>\\n{\\n  \"invoice\": {\\n    \"client_name\": \"Olson...</td>\n",
       "      <td>Invoice no: 73285932 Date of issue: 07/25/2017...</td>\n",
       "    </tr>\n",
       "    <tr>\n",
       "      <th>4</th>\n",
       "      <td>batch1-0081.jpg</td>\n",
       "      <td>\\n{\\n  \"invoice\": {\\n    \"client_name\": \"Wilso...</td>\n",
       "      <td>Invoice no: 15288019 Date of issue: 09/07/2014...</td>\n",
       "    </tr>\n",
       "  </tbody>\n",
       "</table>\n",
       "</div>"
      ],
      "text/plain": [
       "         File Name                                          Json Data  \\\n",
       "0  batch1-0494.jpg  \\n{\\n  \"invoice\": {\\n    \"client_name\": \"Clark...   \n",
       "1  batch1-0489.jpg  \\n{\\n  \"invoice\": {\\n    \"client_name\": \"Willi...   \n",
       "2  batch1-0499.jpg  \\n{\\n  \"invoice\": {\\n    \"client_name\": \"Heste...   \n",
       "3  batch1-0497.jpg  \\n{\\n  \"invoice\": {\\n    \"client_name\": \"Olson...   \n",
       "4  batch1-0081.jpg  \\n{\\n  \"invoice\": {\\n    \"client_name\": \"Wilso...   \n",
       "\n",
       "                                          OCRed Text  \n",
       "0  Invoice no: 84652373 Date of issue: 02/23/2021...  \n",
       "1  Invoice no: 37451664 Date of issue: 06/11/2020...  \n",
       "2  Invoice no: 40108666 Date of issue: 02/07/2020...  \n",
       "3  Invoice no: 73285932 Date of issue: 07/25/2017...  \n",
       "4  Invoice no: 15288019 Date of issue: 09/07/2014...  "
      ]
     },
     "execution_count": 4,
     "metadata": {},
     "output_type": "execute_result"
    }
   ],
   "source": [
    "df_all.head()"
   ]
  },
  {
   "cell_type": "markdown",
   "id": "09ce814a",
   "metadata": {},
   "source": [
    "## EDA"
   ]
  },
  {
   "cell_type": "code",
   "execution_count": 5,
   "id": "3f28bfe7",
   "metadata": {},
   "outputs": [
    {
     "name": "stdout",
     "output_type": "stream",
     "text": [
      "Shape: (1414, 3)\n",
      "<class 'pandas.core.frame.DataFrame'>\n",
      "RangeIndex: 1414 entries, 0 to 1413\n",
      "Data columns (total 3 columns):\n",
      " #   Column      Non-Null Count  Dtype \n",
      "---  ------      --------------  ----- \n",
      " 0   File Name   1414 non-null   object\n",
      " 1   Json Data   1414 non-null   object\n",
      " 2   OCRed Text  1414 non-null   object\n",
      "dtypes: object(3)\n",
      "memory usage: 33.3+ KB\n",
      "None\n"
     ]
    }
   ],
   "source": [
    "print(\"Shape:\", df_all.shape)\n",
    "print(df_all.info())"
   ]
  },
  {
   "cell_type": "code",
   "execution_count": 7,
   "id": "b601ff1d",
   "metadata": {},
   "outputs": [
    {
     "name": "stdout",
     "output_type": "stream",
     "text": [
      "Missing values per column:\n",
      "File Name     0\n",
      "Json Data     0\n",
      "OCRed Text    0\n",
      "dtype: int64\n"
     ]
    }
   ],
   "source": [
    "print(\"Missing values per column:\")\n",
    "print(df_all.isnull().sum())"
   ]
  },
  {
   "cell_type": "code",
   "execution_count": 8,
   "id": "2b88f512",
   "metadata": {},
   "outputs": [
    {
     "data": {
      "image/png": "[encoded data removed]",
      "text/plain": [
       "<Figure size 600x400 with 1 Axes>"
      ]
     },
     "metadata": {},
     "output_type": "display_data"
    }
   ],
   "source": [
    "df_all[\"ocr_len\"] = df_all[\"OCRed Text\"].astype(str).apply(len)\n",
    "plt.figure(figsize=(6,4))\n",
    "sns.histplot(df_all[\"ocr_len\"], bins=20, kde=True)\n",
    "plt.title(\"Distribusi panjang teks OCR\")\n",
    "plt.xlabel(\"Jumlah karakter\")\n",
    "plt.ylabel(\"Frekuensi\")\n",
    "plt.show()"
   ]
  }
 ],
 "metadata": {
  "kernelspec": {
   "display_name": "myvenv",
   "language": "python",
   "name": "python3"
  },
  "language_info": {
   "codemirror_mode": {
    "name": "ipython",
    "version": 3
   },
   "file_extension": ".py",
   "mimetype": "text/x-python",
   "name": "python",
   "nbconvert_exporter": "python",
   "pygments_lexer": "ipython3",
   "version": "3.11.9"
  }
 },
 "nbformat": 4,
 "nbformat_minor": 5
}
