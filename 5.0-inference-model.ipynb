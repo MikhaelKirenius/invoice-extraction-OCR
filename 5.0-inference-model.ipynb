{
 "cells": [
  {
   "cell_type": "code",
   "execution_count": 1,
   "id": "fdb8e204",
   "metadata": {},
   "outputs": [
    {
     "name": "stderr",
     "output_type": "stream",
     "text": [
      "c:\\Users\\PC\\Documents\\final_project_ocr_dibimbing\\myvenv\\Lib\\site-packages\\tqdm\\auto.py:21: TqdmWarning: IProgress not found. Please update jupyter and ipywidgets. See https://ipywidgets.readthedocs.io/en/stable/user_install.html\n",
      "  from .autonotebook import tqdm as notebook_tqdm\n"
     ]
    }
   ],
   "source": [
    "import json\n",
    "import datasets\n",
    "from datasets import load_dataset, ClassLabel\n",
    "from transformers import AutoTokenizer, AutoModelForTokenClassification, DataCollatorForTokenClassification\n",
    "from transformers import TrainingArguments, Trainer\n",
    "import evaluate\n",
    "import numpy as np\n",
    "from transformers import pipeline"
   ]
  },
  {
   "cell_type": "code",
   "execution_count": 2,
   "id": "7a48fa0f",
   "metadata": {},
   "outputs": [],
   "source": [
    "MODEL_PATH = \"mikhaelkrns/invoice-ner-v1\"\n",
    "tokenizer = AutoTokenizer.from_pretrained(MODEL_PATH)\n",
    "model = AutoModelForTokenClassification.from_pretrained(MODEL_PATH)"
   ]
  },
  {
   "cell_type": "code",
   "execution_count": 5,
   "id": "b9500c45",
   "metadata": {},
   "outputs": [
    {
     "name": "stderr",
     "output_type": "stream",
     "text": [
      "Device set to use cpu\n"
     ]
    },
    {
     "name": "stdout",
     "output_type": "stream",
     "text": [
      "{'entity_group': 'INVOICE_NUMBER', 'score': np.float32(0.9969909), 'word': '11580833', 'start': 14, 'end': 22}\n",
      "{'entity_group': 'INVOICE_DATE', 'score': np.float32(0.99620664), 'word': '11', 'start': 38, 'end': 40}\n",
      "{'entity_group': 'INVOICE_DATE', 'score': np.float32(0.61783093), 'word': '/', 'start': 40, 'end': 41}\n",
      "{'entity_group': 'INVOICE_DATE', 'score': np.float32(0.99297607), 'word': '24', 'start': 41, 'end': 43}\n",
      "{'entity_group': 'SELLER_NAME', 'score': np.float32(0.9921085), 'word': 'Wood, Simpson and Summers', 'start': 66, 'end': 91}\n",
      "{'entity_group': 'CLIENT_NAME', 'score': np.float32(0.9941952), 'word': 'Tapia LLC', 'start': 92, 'end': 101}\n",
      "{'entity_group': 'QUANTITY', 'score': np.float32(0.99731135), 'word': '1', 'start': 354, 'end': 355}\n",
      "{'entity_group': 'NET_WORTH', 'score': np.float32(0.24504663), 'word': ',', 'start': 355, 'end': 356}\n",
      "{'entity_group': 'QUANTITY', 'score': np.float32(0.6150784), 'word': '00', 'start': 356, 'end': 358}\n",
      "{'entity_group': 'PRICE', 'score': np.float32(0.7771382), 'word': ',', 'start': 372, 'end': 373}\n",
      "{'entity_group': 'PRICE', 'score': np.float32(0.9921976), 'word': '98, 99', 'start': 380, 'end': 385}\n",
      "{'entity_group': 'QUANTITY', 'score': np.float32(0.99767405), 'word': '3', 'start': 448, 'end': 449}\n",
      "{'entity_group': 'PRICE', 'score': np.float32(0.4556681), 'word': ', 00', 'start': 449, 'end': 452}\n",
      "{'entity_group': 'PRICE', 'score': np.float32(0.76262367), 'word': ',', 'start': 460, 'end': 461}\n",
      "{'entity_group': 'PRICE', 'score': np.float32(0.9603038), 'word': ',', 'start': 467, 'end': 468}\n",
      "{'entity_group': 'PRICE', 'score': np.float32(0.98884946), 'word': '230, 84', 'start': 475, 'end': 481}\n",
      "{'entity_group': 'QUANTITY', 'score': np.float32(0.99756986), 'word': '5', 'start': 561, 'end': 562}\n",
      "{'entity_group': 'PRICE', 'score': np.float32(0.41388446), 'word': ', 00', 'start': 562, 'end': 565}\n",
      "{'entity_group': 'PRICE', 'score': np.float32(0.946856), 'word': ', 40', 'start': 583, 'end': 586}\n",
      "{'entity_group': 'PRICE', 'score': np.float32(0.9578169), 'word': '1 411, 74', 'start': 591, 'end': 599}\n",
      "{'entity_group': 'TOTAL', 'score': np.float32(0.59841937), 'word': ',', 'start': 697, 'end': 698}\n",
      "{'entity_group': 'PRICE', 'score': np.float32(0.49998307), 'word': '00', 'start': 698, 'end': 700}\n",
      "{'entity_group': 'TOTAL', 'score': np.float32(0.59398836), 'word': '00', 'start': 806, 'end': 808}\n",
      "{'entity_group': 'NET_WORTH', 'score': np.float32(0.46710917), 'word': ',', 'start': 1008, 'end': 1009}\n",
      "{'entity_group': 'TOTAL', 'score': np.float32(0.44031623), 'word': ',', 'start': 1021, 'end': 1022}\n",
      "{'entity_group': 'NET_WORTH', 'score': np.float32(0.44279155), 'word': ',', 'start': 1028, 'end': 1029}\n",
      "{'entity_group': 'NET_WORTH', 'score': np.float32(0.42692742), 'word': ',', 'start': 1039, 'end': 1040}\n",
      "{'entity_group': 'NET_WORTH', 'score': np.float32(0.42724413), 'word': ',', 'start': 1145, 'end': 1146}\n",
      "{'entity_group': 'NET_WORTH', 'score': np.float32(0.436658), 'word': ',', 'start': 1152, 'end': 1153}\n",
      "{'entity_group': 'NET_WORTH', 'score': np.float32(0.45694792), 'word': ',', 'start': 1161, 'end': 1162}\n",
      "{'entity_group': 'NET_WORTH', 'score': np.float32(0.45937595), 'word': ',', 'start': 1178, 'end': 1179}\n",
      "{'entity_group': 'NET_WORTH', 'score': np.float32(0.45095015), 'word': ',', 'start': 1187, 'end': 1188}\n",
      "{'entity_group': 'NET_WORTH', 'score': np.float32(0.47286266), 'word': ',', 'start': 1198, 'end': 1199}\n"
     ]
    }
   ],
   "source": [
    "model.config.id2label = {\n",
    " 0: 'B-CLIENT_ADDRESS',\n",
    " 1: 'B-CLIENT_NAME',\n",
    " 2: 'B-INVOICE_DATE',\n",
    " 3: 'B-INVOICE_NUMBER',\n",
    " 4: 'B-ITEM_DESC',\n",
    " 5: 'B-NET_WORTH',\n",
    " 6: 'B-PRICE',\n",
    " 7: 'B-QUANTITY',\n",
    " 8: 'B-SELLER_NAME',\n",
    " 9: 'B-TOTAL',\n",
    " 10: 'B-VAT',\n",
    " 11: 'I-CLIENT_ADDRESS',\n",
    " 12: 'I-CLIENT_NAME',\n",
    " 13: 'I-ITEM_DESC',\n",
    " 14: 'I-NET_WORTH',\n",
    " 15: 'I-PRICE',\n",
    " 16: 'I-SELLER_NAME',\n",
    " 17: 'I-TOTAL',\n",
    " 18: 'I-VAT',\n",
    " 19: 'O'\n",
    " }\n",
    "\n",
    "\n",
    "model.config.label2id = {v: k for k, v in model.config.id2label.items()}\n",
    "\n",
    "\n",
    "ner_pipeline = pipeline(\n",
    "    \"ner\",\n",
    "    model=model,\n",
    "    tokenizer=tokenizer,\n",
    "    aggregation_strategy=\"max\"  \n",
    ")\n",
    "\n",
    "testing_csv = \"\"\" \n",
    "Invoice no: 11580833 Date of issue: 11/24/2019 \n",
    "Seller: Client: Wood, Simpson and Summers Tapia LLC \n",
    "7000 Graves Ville 53393 Peters Overpass Juliastad, \n",
    "OH 02764 Boothside, WY 76847 Tax Id: 968-86-1662 T\n",
    "ax Id: 979-96-3992 IBAN: GB61VHVS67246807986062 ITEMS \n",
    "No. Description Qty UM Net price Net worth VAT [%] Gross worth 1. \n",
    "Dell Optiplex SFF Desktop 1,00 each 89,99 89,99 10% 98,99 \n",
    "Computer Windows 10 4GB 160GB 2 Dell Desktop ComputerDIntel \n",
    "3,00 each 69,95 209,85 10% 230,84 Core 2 Duo 8GB 1TB HD \n",
    "[Windows 10 PC 22 LCD Wifi 3 HP 6200 Pro Core i7 3.4GHz\n",
    "5,00 each 256,68 1 283,40 10% 1 411,74 Quad Core 16GB 500GB \n",
    "Computer Vintage Microsolutions Pentium 3,00 each 390,00 1\n",
    "170,00 10% 1 287,00 133mhz Desktop Tower PC Windows 95 5.25 \n",
    "Floppy 5 Dell OptiPlex 7060 SFF 4,00 each 202,50 810,00 10% 891,00 \n",
    "Computer, 8th Gen Core i5, 8GB DDR4, New 240GB SSD DVD 6 Custom Gaming \n",
    "PC Computer 1,00 each 449,99 449,99 10% 494,99 FX-6300 3.SGHz 8GB \n",
    "RAM 128GB SSD 1 TB HDD RX 580 4GB Custom Build HP Desktop 2,00 each \n",
    "329,00 658,00 10% 723,80 Computer 16GB 2TB SSD Windows 10 \n",
    "Windows PC WiFi SUMMARY VAT [%] Net worth VAT Gross worth 10% \n",
    "4 671,23 467,12 5 138,35 Total $ 4 671,23 $ 467,12 $ 5 138,35\"\n",
    "\n",
    "\"\"\"\n",
    "\n",
    "testing_ocr = \"\"\"\n",
    "Invoice no: 11580833 Date of issue: 11/24/2019 \n",
    "Seller: Client: Wood, Simpson and Summers Tapia LLC 7000\n",
    "Graves Ville 53393 Peters Overpass Juliastad, OH 02764 Boothside, \n",
    "WY 76847 Tax Id: 968-86-1662 Tax Id: 979-96-3992\n",
    "IBAN: GB61VHVS67246807986062 \n",
    "ITEMS No. Description Qty UM \n",
    "Net price Net worth VAT [%] Gross worth 1. \n",
    "Dell Optiplex SFF Desktop 1,00 each 89,99 89,99 10% 98,99 \n",
    "Computer Windows 10 4GB 160GB 2 Dell Desktop ComputerDIntel\n",
    "3,00 each 69,95 209,85 10% 230,84 Core 2 Duo 8GB 1TB HD\n",
    "[Windows 10 PC 22 LCD Wifi 3 HP 6200 Pro Core i7 3.4GHz 5,00 \n",
    "each 256,68 1 283,40 10% 1 411,74 Quad Core 16GB 500GB \n",
    "Computer Vintage Microsolutions Pentium 3,00 each 390,00 1 170,00\n",
    "10% 1 287,00 133mhz Desktop Tower PC Windows 95 5.25 Floppy \n",
    "5 Dell OptiPlex 7060 SFF 4,00 each 202,50 810,00 10% 891,\n",
    "00 Computer, 8th Gen Core i5, 8GB DDR4, New 240GB SSD DVD 6 Custom\n",
    "Gaming PC Computer 1,00 each 449,99 10% 494,99 FX-6300 3.SGHz 8GB \n",
    "RAM 128GB SSD 1 TB HDD RX 580 4GB Custom Build HP Desktop 2,00 each\n",
    "329,00 658,00 10% 723,80 Computer 16GB 2TB SSD Windows 10 \n",
    "Windows PC WiFi SUMMARY VAT [%] Net worth VAT Gross worth 10% 4\n",
    "671,23 467,12 5 138,35 Total $ 4 671,23 $ 467,12 $ 5 138,35\n",
    "\"\"\"\n",
    "\n",
    "testing_batch2 =\"\"\"\n",
    "Invoice acct 1N8CpQGmFzQxIIDx Invoice number 436773 Date of issue Oct. 6, 2023 Date due Nov. 17,2023 acct_1NBCpQGmFzQxIIDx Bill to Cristini North America Inc. S5809 USD due Nov. 17 , 2023 Pay online Description Quantity unit_price Amount 81120905-101 PPT SHAPE 813 S52 81120905-101 PPT SHAPE 3M SJ3572 Scotchmate Hook 1.5\"\" S215 S1505 3M SJ3572 Scotchmate Hook 1.5\"\" 3M 48 Thread Sealant Tape S6 S42 3M 48 Thread Sealant Tape Loctite 415-10z S12 S48 Loctite 415-1oz 3M 3762LM-PG Hot Melt TAN 1\"\" x 3\"\" 8 S13 S104 3M 3762LM-PG Hot Melt TAN 1\"\"x3\"\" 3M 468MP Adh Transfer Tape S766 S3064 3M 468MP Adh: Transfer Tape Akzo 10p20-13SC Spray 250ml 836 $36 Akzo 10p20-13SC Spray 250ml SubTotal: S2096 Total: S2096 Amount due: S5809 USD\n",
    "\"\"\"\n",
    "\n",
    "\n",
    "\n",
    "results = ner_pipeline(testing_csv)\n",
    "\n",
    "for r in results:\n",
    "    print(r)"
   ]
  },
  {
   "cell_type": "code",
   "execution_count": 7,
   "id": "42a37f8b",
   "metadata": {},
   "outputs": [
    {
     "name": "stdout",
     "output_type": "stream",
     "text": [
      "{'INVOICE_NUMBER': ['11580833'], 'INVOICE_DATE': ['11', '/', '24'], 'SELLER_NAME': ['Wood, Simpson and Summers'], 'CLIENT_NAME': ['Tapia LLC'], 'QUANTITY': ['1', '00', '3', '5'], 'PRICE': [',', '98, 99', ',', ',', '230, 84', ', 40', '1 411, 74']}\n"
     ]
    }
   ],
   "source": [
    "from collections import defaultdict\n",
    "\n",
    "def extract_entities(text, pipeline, threshold=0.9):\n",
    "    results = pipeline(text)\n",
    "    entities = defaultdict(list)\n",
    "    for r in results:\n",
    "        if r[\"score\"] >= threshold:  \n",
    "            entities[r[\"entity_group\"]].append(r[\"word\"])  \n",
    "    return dict(entities)\n",
    "\n",
    "hasil = extract_entities(testing_csv, ner_pipeline, threshold=0.6)\n",
    "print(hasil)\n"
   ]
  }
 ],
 "metadata": {
  "kernelspec": {
   "display_name": "myvenv",
   "language": "python",
   "name": "python3"
  },
  "language_info": {
   "codemirror_mode": {
    "name": "ipython",
    "version": 3
   },
   "file_extension": ".py",
   "mimetype": "text/x-python",
   "name": "python",
   "nbconvert_exporter": "python",
   "pygments_lexer": "ipython3",
   "version": "3.11.9"
  }
 },
 "nbformat": 4,
 "nbformat_minor": 5
}
